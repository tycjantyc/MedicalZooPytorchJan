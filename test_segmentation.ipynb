{
 "cells": [
  {
   "cell_type": "code",
   "execution_count": 1,
   "metadata": {},
   "outputs": [],
   "source": [
    "import test_segmentation as ts\n",
    "import matplotlib.pyplot as plt"
   ]
  },
  {
   "cell_type": "code",
   "execution_count": 17,
   "metadata": {},
   "outputs": [
    {
     "name": "stdout",
     "output_type": "stream",
     "text": [
      "^C\n"
     ]
    }
   ],
   "source": [
    "! python3 train_with_trainer.py --classes 14 --dataset pioro --inChannels 1 --inModalities 1 --model UNET2D --batchSz 2"
   ]
  },
  {
   "cell_type": "code",
   "execution_count": 2,
   "metadata": {},
   "outputs": [
    {
     "name": "stdout",
     "output_type": "stream",
     "text": [
      "DATA SAMPLES HAVE BEEN GENERATED SUCCESSFULLY\n",
      "Building Model . . . . . . . .UNET2D\n",
      "UNET2D Number of params: 13395022\n",
      "Model transferred in GPU.....\n",
      "Dice loss:tensor(0.8296, device='cuda:0', grad_fn=<MeanBackward0>)\n",
      "Dice coef:[0.9908124 0.        0.        0.        0.        0.        0.\n",
      " 0.        0.        0.        0.        0.5341991 0.        0.8599203]\n"
     ]
    }
   ],
   "source": [
    "! python3 test_segmentation.py --classes 14\n"
   ]
  },
  {
   "cell_type": "code",
   "execution_count": 4,
   "metadata": {},
   "outputs": [
    {
     "name": "stdout",
     "output_type": "stream",
     "text": [
      "0\n"
     ]
    }
   ],
   "source": [
    "! python3 train_with_trainer.py --classes 5 --dataset pioro3d --inChannels 1 --inModalities 1 --model UNET3D --batchSz 1"
   ]
  }
 ],
 "metadata": {
  "kernelspec": {
   "display_name": "Python 3",
   "language": "python",
   "name": "python3"
  },
  "language_info": {
   "codemirror_mode": {
    "name": "ipython",
    "version": 3
   },
   "file_extension": ".py",
   "mimetype": "text/x-python",
   "name": "python",
   "nbconvert_exporter": "python",
   "pygments_lexer": "ipython3",
   "version": "3.10.11"
  },
  "orig_nbformat": 4
 },
 "nbformat": 4,
 "nbformat_minor": 2
}
